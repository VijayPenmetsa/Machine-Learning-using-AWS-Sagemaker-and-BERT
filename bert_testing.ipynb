{
  "nbformat": 4,
  "nbformat_minor": 0,
  "metadata": {
    "colab": {
      "name": "bert_testing.ipynb",
      "provenance": [],
      "collapsed_sections": []
    },
    "kernelspec": {
      "name": "python3",
      "display_name": "Python 3"
    },
    "language_info": {
      "name": "python"
    },
    "accelerator": "GPU"
  },
  "cells": [
    {
      "cell_type": "code",
      "source": [
        "from google.colab import drive\n",
        "drive.mount('/content/drive')"
      ],
      "metadata": {
        "colab": {
          "base_uri": "https://localhost:8080/"
        },
        "id": "FfomzzltSY44",
        "outputId": "923774ba-73a3-421e-df25-9a0cd65b0781"
      },
      "execution_count": null,
      "outputs": [
        {
          "output_type": "stream",
          "name": "stdout",
          "text": [
            "Mounted at /content/drive\n"
          ]
        }
      ]
    },
    {
      "cell_type": "markdown",
      "source": [
        "# ***Imports***"
      ],
      "metadata": {
        "id": "gWuVRIxnbWLY"
      }
    },
    {
      "cell_type": "code",
      "source": [
        "from collections import Counter\n",
        "import re\n",
        "import string\n",
        "\n",
        "# from nltk.stem import WordNetLemmatizer\n",
        "# from nltk.stem import PorterStemmer"
      ],
      "metadata": {
        "id": "ce5JIH6-rBeh"
      },
      "execution_count": null,
      "outputs": []
    },
    {
      "cell_type": "code",
      "source": [
        "!pip install transformers\n",
        "\n",
        "import pandas as pd\n",
        "import numpy as np\n",
        "import matplotlib.pyplot as plt \n",
        "from transformers import BertForQuestionAnswering, AutoTokenizer\n",
        "from transformers import pipeline\n",
        "# import nltk\n",
        "# nltk.download('all')\n",
        "# from nltk.corpus import stopwords\n",
        "# nltk.download('stopwords')\n",
        "# from nltk.tokenize import word_tokenize"
      ],
      "metadata": {
        "id": "hXuhyjlVSaZS"
      },
      "execution_count": null,
      "outputs": []
    },
    {
      "cell_type": "code",
      "source": [
        "# stemmer = PorterStemmer()\n",
        "# lemmatizer = WordNetLemmatizer()"
      ],
      "metadata": {
        "id": "9PDqhXpDvTf4"
      },
      "execution_count": null,
      "outputs": []
    },
    {
      "cell_type": "markdown",
      "source": [
        "# Loading model and datasets"
      ],
      "metadata": {
        "id": "szY3DQc6bhdQ"
      }
    },
    {
      "cell_type": "markdown",
      "source": [
        "Model: bert-base-cased-squad2\n",
        "\n",
        "Datasets: Evaluation dataset, Available beds dataset"
      ],
      "metadata": {
        "id": "nnjpwQRCbzjl"
      }
    },
    {
      "cell_type": "code",
      "source": [
        "modelname = 'deepset/bert-base-cased-squad2'\n",
        "model = BertForQuestionAnswering.from_pretrained(modelname)\n",
        "tokenizer = AutoTokenizer.from_pretrained(modelname)\n",
        "\n",
        "nlp = pipeline('question-answering', model=model, tokenizer=tokenizer)"
      ],
      "metadata": {
        "id": "gbArlLwCUHn8"
      },
      "execution_count": null,
      "outputs": []
    },
    {
      "cell_type": "code",
      "source": [
        "eval_data = pd.read_csv('/content/drive/MyDrive/Capstone/datasets/evaluation_data.csv')\n",
        "beds_test = pd.read_csv('/content/drive/MyDrive/Capstone/datasets/recent_beds_df')"
      ],
      "metadata": {
        "id": "aJ86-5j6SoSB"
      },
      "execution_count": null,
      "outputs": []
    },
    {
      "cell_type": "markdown",
      "source": [
        "# Preparing the datasets"
      ],
      "metadata": {
        "id": "qqolPf7Gdasn"
      }
    },
    {
      "cell_type": "code",
      "source": [
        "print(set(beds_test['area'].tolist()))"
      ],
      "metadata": {
        "colab": {
          "base_uri": "https://localhost:8080/"
        },
        "id": "wEv8CaYgcNBy",
        "outputId": "c0781eea-9c33-4ecd-a6ed-39c8bd6f2959"
      },
      "execution_count": null,
      "outputs": [
        {
          "output_type": "stream",
          "name": "stdout",
          "text": [
            "{nan, 'Thirupathur', 'Alirajpur', 'Narayanpet', 'Kancheepuram', 'Rajanna', 'Jagtial', 'Damoh', 'Anuppur', 'Singrauli', 'Rural/DHO', 'Chittoor', 'Neemuch', 'Vikarabad', 'Namakkal', 'Dindigul', 'Panna', 'Chennai', 'Sehore', 'Khandwa', 'Tiruppur', 'Adilabad', 'PCMC', 'Betul', 'Badradri', 'CS/Nagarpalika', 'Jangaon', 'Ramanathapuram', 'Salem', 'Chhatarpur', 'Jhabua', 'Sivagangai', 'Burhanpur', 'Madurai', 'Shivpuri', 'Guna', 'TheNilgiris', 'Umaria', 'Ariyalur', 'Y.s.r.', 'Khadki Cantonment Board', 'Tiruvannamalai', 'Kamareddy', 'Thoothukudi', 'Dehuroad Cantonment Board', 'Mayiladuthurai', 'Chengalpet', 'Dhar', 'Shajapur', 'Gwalior', 'Mahabubnagar', 'Ranipet', 'Nizamabad', 'Shahdol', 'Villupuram', 'Anantapur', 'Warangal Urban', 'Bhind', 'Mandla', 'Theni', 'Siddipet', 'Vidisha', 'Chhindwara', 'Sangareddy', 'Delhi', 'Harda', 'Morena', 'Hyderabad', 'Wanaparthy', 'Mancherial', 'Rewa', 'Hoshangabad', 'Jogulamba', 'Nirmal', 'Ujjain', 'Tikamgarh', 'Thanjavur', 'Bengaluru', 'Ashoknagar', 'Kanyakumari', 'Cuddalore', 'Agar Malwa', 'Dharmapuri', 'Sheopur', 'Khammam', 'Balaghat', 'Sagar', 'Satna', 'Suryapet', 'Vizianagaram', 'Dewas', 'Komaram Bheem', 'Nagapattinam', 'Srikakulam', 'Medchal', 'West godavari', 'Rajgarh', 'Pune Cantonment', 'Katni', 'Krishnagiri', 'Chengalpattu', 'Kurnool', 'Virudhunagar', 'Guntur', 'Nagarkurnool', 'Karimnagar', 'Spsr nellore', 'Tenkasi', 'Prakasam', 'Sidhi', 'Dindori', 'Pudukkottai', 'Thiruvarur', 'Narsinghpur', 'Tiruvallur', 'Warangal Rural', 'Nilgiris', 'Coimbatore', 'Nalgonda', 'Visakhapatanam', 'Niwari', 'Khargone', 'Barwani', 'Medak', 'Rangareddy', 'Jabalpur', 'Peddapalli', 'Yadadri', 'Perambalur', 'Seoni', 'Vellore', 'Mahabubabad', 'Kallakurichi', 'Tirunelveli', 'Mandsaur', 'Bhopal', 'East godavari', 'Thiruchirappalli', 'Karur', 'Indore', 'Krishna', 'Kanniyakumari', 'Jayashankar', 'PMC', 'Datia', 'Ratlam', 'Raisen', 'Erode', 'Mulugu'}\n"
          ]
        }
      ]
    },
    {
      "cell_type": "code",
      "source": [
        "# Lowering text in area list\n",
        "beds_test['area'] = beds_test['area'].str.lower()\n",
        "area_list = list(set(beds_test['area'].tolist()))\n",
        "area_list.remove(area_list[0]) ### removing first value (nan)\n",
        "\n",
        "print(area_list)"
      ],
      "metadata": {
        "colab": {
          "base_uri": "https://localhost:8080/"
        },
        "id": "h0MawLznaZWL",
        "outputId": "4128728d-50d0-4cac-c030-b7e7cb2094ba"
      },
      "execution_count": null,
      "outputs": [
        {
          "output_type": "stream",
          "name": "stdout",
          "text": [
            "['prakasam', 'karur', 'indore', 'panna', 'tiruvallur', 'ratlam', 'mahabubnagar', 'thenilgiris', 'ashoknagar', 'salem', 'y.s.r.', 'kanyakumari', 'ranipet', 'erode', 'mayiladuthurai', 'hoshangabad', 'yadadri', 'sivagangai', 'villupuram', 'kurnool', 'seoni', 'nalgonda', 'dindori', 'ramanathapuram', 'nirmal', 'pudukkottai', 'east godavari', 'chhatarpur', 'ujjain', 'vidisha', 'mulugu', 'barwani', 'virudhunagar', 'tikamgarh', 'badradri', 'rajanna', 'alirajpur', 'thirupathur', 'chittoor', 'damoh', 'morena', 'anantapur', 'suryapet', 'rural/dho', 'komaram bheem', 'khadki cantonment board', 'balaghat', 'bhind', 'dindigul', 'krishnagiri', 'burhanpur', 'tiruppur', 'thiruvarur', 'nizamabad', 'vizianagaram', 'jagtial', 'mancherial', 'krishna', 'thoothukudi', 'dewas', 'jabalpur', 'pcmc', 'mahabubabad', 'tirunelveli', 'pune cantonment', 'shivpuri', 'warangal urban', 'khammam', 'tiruvannamalai', 'srikakulam', 'nilgiris', 'thanjavur', 'siddipet', 'sheopur', 'nagarkurnool', 'jangaon', 'visakhapatanam', 'mandla', 'rewa', 'gwalior', 'sagar', 'thiruchirappalli', 'chengalpattu', 'wanaparthy', 'sehore', 'jhabua', 'ariyalur', 'sangareddy', 'medak', 'umaria', 'pmc', 'warangal rural', 'shajapur', 'perambalur', 'kanniyakumari', 'vellore', 'jayashankar', 'delhi', 'narayanpet', 'cs/nagarpalika', 'rajgarh', 'bengaluru', 'kancheepuram', 'theni', 'kallakurichi', 'hyderabad', 'jogulamba', 'rangareddy', 'satna', 'singrauli', 'dehuroad cantonment board', 'karimnagar', 'bhopal', 'kamareddy', 'nagapattinam', 'raisen', 'medchal', 'katni', 'chengalpet', 'cuddalore', 'betul', 'anuppur', 'dhar', 'madurai', 'khandwa', 'vikarabad', 'harda', 'neemuch', 'namakkal', 'khargone', 'dharmapuri', 'spsr nellore', 'chennai', 'west godavari', 'niwari', 'shahdol', 'adilabad', 'mandsaur', 'sidhi', 'agar malwa', 'chhindwara', 'guntur', 'peddapalli', 'narsinghpur', 'datia', 'guna', 'coimbatore', 'tenkasi']\n"
          ]
        }
      ]
    },
    {
      "cell_type": "code",
      "source": [
        "# Splitting evaluation dataset\n",
        "\n",
        "# Shuffling the dataset\n",
        "eval_data = eval_data.sample(frac=1).reset_index(drop=True)\n",
        "# Splitting the dataset into 4 parts\n",
        "eval1, eval2, eval3, eval4 = np.array_split(eval_data, 4)\n",
        "# Storing the tweets from evaluation datasets to lists\n",
        "eval = eval_data['tweets'].tolist()\n",
        "eval1 = eval1['tweets'].tolist()\n",
        "eval2 = eval2['tweets'].tolist()\n",
        "eval3 = eval3['tweets'].tolist()\n",
        "eval4 = eval4['tweets'].tolist()"
      ],
      "metadata": {
        "id": "vp2Vz0B_TJ5c"
      },
      "execution_count": null,
      "outputs": []
    },
    {
      "cell_type": "code",
      "source": [
        "# Sample of evaluation dataset 1\n",
        "eval1"
      ],
      "metadata": {
        "colab": {
          "base_uri": "https://localhost:8080/"
        },
        "id": "7RqUGXqgdFBY",
        "outputId": "3930ff02-b066-400c-cfb0-75c91a475786"
      },
      "execution_count": null,
      "outputs": [
        {
          "output_type": "execute_result",
          "data": {
            "text/plain": [
              "['#Urgent Name : Nooruddin Ahmad Age : around 65 Need : Bed for covid patient, oxygen levels critically low (63) Location : Prayagraj Please if there are an possibility of a bed, please send leads Contact: Hassan Ahmad - +917897210081 #COVID19India #Prayagraj',\n",
              " 'Please HELP A Shobha Rani Age - 60 years Contact - Ajeet (9935847593) City : Delhi, Noida ICU bed needed with Oxygen on urgent basis. #Delhi #COVID19India #Oxygen #OxygenShortage #OxygenCylinder #Urgent #Emergency',\n",
              " 'Anv leads for beds in noida? @htdelhi @SonuSood @FcSonuSood @CMODelhi #Beds #Noida #CovidResources #COVID19Help',\n",
              " '#allindia #COVID19India If you are aware about the availability of #bed #Remedisivir and #Oxygen PLEASE SHARE! We will update it in the India wide #CovidResources document. #urgent #share #spreadtheword',\n",
              " '#Delhi #Gurgaon #Dwarka #Hospital #Urgent #AMPLIFY #Assist Need #Hospital #Bed for my aunt. #AnyoneTHelp? Smt Santosh Bhan 73 Sat: 60-65 palam vihar gurgaon Contact: 9811146673 .@Suhelseth.@OmarAbdullah @GautamGambhir @ABVPDelhi .@AshishSinghLIVE @Traluk .@sushantsareen',\n",
              " 'Please help . Tag people in #vizag #VizagCovidHelp #COVIDEmergency',\n",
              " 'Anv leads for beds in noida? @htdelhi @SonuSood @FcSonuSood @CMODelhi #Beds #Noida #CovidResources #COVID19Help',\n",
              " '#Urgent #Ventilator #ICUBEDS Name- Sujata Kharat Age - 62 Medical condition- covid positive with lung infection and drop in oxygen. Requirement- ICU bed with ventilator. Point of contact - 9665585289 (Amit Pardesi) Location- Pune @AAPPune @SidShirole @PMCPune @ppcr_pune',\n",
              " '#Urgent #SOS Looking for #Hospitals in #Kakinada having a bed with #Ventilator #Covid #COVID19India #Covid19IndiaHelp #COVIDEmergency #CovidSOS #COVID19 #CovidHelp',\n",
              " 'The Need of the Hour in namma #Bengaluru is #OxygenCylinders #OxygenConcentrators #Remdesivir injections #Beds please help people with that on urgent sos basis #SosBangalore #Bangalore #SaveBangalore #HelpBangalore from #Covid19 #Corona they have doctors to Guide',\n",
              " 'Urgent need of oxygen bed in varanasi ! ! #varanasi #vns #COVID19 #Beds #COVIDEmergency #CovidSOS #oxygenbed #ventilater',\n",
              " \"Patient is critical urgent help requiredA Name- Shiv Shankar Kumar Phone number- +91 91225 40200 Age- 41 Oxygen level- 88 'REQUIREMENT'. ICU bed in Darbhanga Current exact location ( hospital/home) - Om Prakash Allalpatti Darbhanga Attender contact- Amit, 9430452005\",\n",
              " '#Urgent ICU bed needed in Delhi and nearby region. Willing to travel. Oxygen we have already. Please contact 7656806344 @ArvindKejriwal @AamAadmiParty @raghav_chadha @msisodia #COVIDSecondWavelnIndia #COVIDEmergency #CovidResources #COVID19India #CUBeds #ICUBedNeeded',\n",
              " 'Ventilator needed in Allahabad Urgent Retweet as fast as possible IT CAN SAVE A LIFE. #COVID19 #help #allahabad #prayagraj #shantipuram #beds Help',\n",
              " 'Leads for #ICU beds in #Delhi Please give a lead guys its urgent #COVID19India #COVIDEmergency2021 #Covid19IndiaHelp #CovidResources',\n",
              " '#SOSDelhi #Urgent ventilator required 3 days widow Anjana who gave birth to a baby. She is very critical, Please amplify. Save Anjana. Call: +91 9868368603 #Verified #CovidSOS #COVID19lndia #CovidHelp #Delhi #Covidindialnfo #CovidCrisis #COVIDEmergency #COVIDSecondWavelnindia',\n",
              " '#Urgent #Delhi #CUBeds #COVIDEmergency #COVID19lndia #OxygenCylinders #SOS #Delhi Please help with any leads for ICU for a serious 42 yrs female patient. Even after oxygen support, Sp02 is 81. Husband died 6 months ago, no parents, no siblings and a 4 year old daughter at home.',\n",
              " 'EXTREMELY URGENT BED NEEDED IN AHMEDABAD, patient critical is being driven around please help « a',\n",
              " 'Urgently need an #ICU bed in New Delhi. Please help with verified leads.#CovidResources #CUBed #COVID19 #SOSDelhi #Help #Beds',\n",
              " 'COVID Emergency sos #Covid19Vizag Date: 7May 2021 Looking For: Hosp. bed with oxygen Name: Nageswararao Age: 79 Contact: +918555871139, +919573377605 Sanjay Location : Visakhapatnam @UmeshPadala @ArogyaAndhra',\n",
              " \"#SOS Looking for an ICU bed with Ventilator in and around #Erode for my friend's dad. Any verified leads would be very useful. #COVIDEmergency #COVIDSecondWave #COVIDEmergency2021 #Covid19IndiaHelp #CovidHelp #COVID19India #Covid #Emergency #CUBeds\",\n",
              " '#Urgent! Need an ICU bed Can you all please help its really urgent Location : Delhi ICU BEDS I I • #COVIDSecondWavelnlndia #COVID19lndia #COVIDEmergency',\n",
              " 'Guys help needed. #COVID19India #Emergency #COVIDEmergency2021 #CovidBeds #Beds',\n",
              " 'Urgent ICU ventilator beds available in #vizag leads ivvandi please. Pls share verified ones (1 or 2 hours before verified) patients condition is very critical #Beds #VentilatorBed #CovidHelp #AndhraPradesh #VizagCovidHelp #covid19 @sairazesh @MythriOfficial @SureshProdns',\n",
              " '#Emergency #Share URGENTLY NEED a hospital bed in Chennai for a heart patient infected with #Covid. Please share the message and contact 9962200666 if you can find or provide. #ChennaiCovid #BedsAvailability #COVID19lndia @LakshmyRamki',\n",
              " 'Name : RN PRASADA RAO AGE: 64 CURRENT LOCATION: RAILWAY HOSPITAL VIZAG, ISOLATION WARD BED NO:95, OXYGEN LEVEL <75 *NEED VENTILATOR BED* Contact number: 8143265870 @RRRMovie @SVC _official @GeethaArts #vizagcovidhelp',\n",
              " 'There Is a requirement for an ICU bed in Patna for Alok Sharma - 2020 Batch ISM. He is suffering from pneumonia, both lungs are infected.',\n",
              " '#VENTILATOR #BED #DELHI #NCR #URGENT Gazala Khatoon Age - 25 years She is 8 MONTHS PREGNANT. She needs urgent VENTILATOR BED anywhere in DELHI NCR. Her attendees are 9650177148 Zakir. 9650086152 Raees @rohit_chahal @ABVPDelhi @AshishSinghLIVE @srinivasiyc @s naseem4',\n",
              " 'Need #ICU bed in #Hyderabad. very #urgent. Please let us know any #leads. @SureshProdns @SunRisers @TelanganaHealth @KTRTRS @KTRoffice @TelanganaCMO #VentilatorBed #COVID19lndia #IndiaFightsCorona',\n",
              " 'PLEASE HELP A Radha Tiwari Age : 52 162 vaibhav nagar INDORE Contact - 8975728480 Oxygen bed is need in Indore #Indore #COVID19India#OxygenBed#Urgent #Emergency',\n",
              " 'Tweeting as received in DM Patient is in Ambulance His 02 is dropping to 60.Need immediate help for bed in vizag please *Patient- jaya chandra* Age-25 02- dropping to 60 Contact person shiva. 9705655102 @ArogyaAndhra @gSuryalAS @vizagcollector #VizagSOS #VizagCovidHelp',\n",
              " \"#Verified #CN113 #BedNeeded #Bangalore #Beds #ICU #Oxygen #SOSBangalore #bangalorecovid #bangaloreOxygen #Urgent #UrgentHelp #Amplify #COVIDSecondWave #COVIDEmergency2021 #COVID19lndia #Covidlndia #Covid #CovidHelp #RUFVerified Oxygen bed,friend's mom, 02-78, Sutheesh 80956 41785\",\n",
              " '#urgent #COVID19India #VentilatorBed #NCR #DelhiNCR #CoronaPandemic #SecondCOVIDWave #sonusoodfoundation @SonuSood @DrKumarVishwas @ArvindKeiriwal @DelhiPolice @BajpayeeManoj @Bhuvan_Bam @BeingSalmanKhan @thetanmay @flyingbeast320 @salonayyy @RubikaLiyaquat',\n",
              " 'Need one #OxygenBed #Beds for #COVID19 patient closer to Dwarka, Delhi. Sp02 is low, please help..',\n",
              " 'Need an hospital bed with ventilator facility in vizag. any leads please help 8019737514 A 1 A #BedsAvailability #HospitalBeds #bed #VizagCovidHelp #vizagcovid #VIZAGCOVIDRESOURCES',\n",
              " 'Need a bed urgently for a physician in Delhi @SanjanaA_Dr #Urgent #COVIDEmergency #DelhiCovid #COVIDSecondWavelnindia #Covid19IndiaHelp #COVID19India #Gurugram #HospitalBeds #CovidResources #NewDelhi',\n",
              " 'Patient: Roopesh Pradhan(48) Please help, He is in very critical condition, ventilator bed needed. Admitted in Asopa Hospital JainurICU BED needed in Chandigarh, India. #COVID19India #COVIDEmergency2021 #ICU #CovidSOS',\n",
              " 'My relative needs an ICU bed in Vizag ASAP // 70 years old lady. Any leads will be greatly appreciated. #vizag #covid #icu #SOS',\n",
              " '@rp_and_it Hi. 67Y0 Female with Oxygen level: 49-52% ICU Ventilator bed needed in #Udaipur.. Or bed in any decent hospital. Can vou please #help? Tried calling each hospital in the list. #COVID19India #CovidSOS #BedNeeded #Urgent',\n",
              " '#coronavirus @ELister social Urgent oxygen bed for #covid positive patient with #heart (cardiac) issues. +91 98117 70228 +91 93107 03241 +91 98107 27531 +91 98118 00217 #OxygenCrisis #COVID19India #CovidCrisis #Emergency',\n",
              " '#SOS NOIDA Ventilator + ICU Bed Needed Covid Patient, Sushil Kumar Age 55 Sp02 Below 60 with support CT Score 23 Contact Son Abhishek 9555977679 #COVIDEmergencylndia #ICUBeds #VentilatorBed #Noida #GreaterNoida #DelhiNCR #Delhi #Urgent @COVResourcesln @BackupBae @SonuSood',\n",
              " '#COVID19India #Covid19IndiaHelp #Emergency #urgent required hospitalbed in Delhi or in Faridabad for my mother..her oxygen levels are dropping.. ventilator preferably @cmohry, @abhiandniyu, @utsavbains, @DelhiPolice']"
            ]
          },
          "metadata": {},
          "execution_count": 23
        }
      ]
    },
    {
      "cell_type": "markdown",
      "source": [
        "# ***Model Inference***"
      ],
      "metadata": {
        "id": "a62R5To0eDuW"
      }
    },
    {
      "cell_type": "code",
      "source": [
        "# Defining a function for model inference on evaluation sets\n",
        "def modelInference(answers_list, evaluation_set):\n",
        "  for tweet in evaluation_set:\n",
        "    context = tweet\n",
        "\n",
        "    sol = nlp({\n",
        "        'question': 'what kind of bed is needed?',\n",
        "        'context': context\n",
        "    })\n",
        "    answers_list.append(sol['answer'])\n",
        "  return answers_list\n",
        "\n",
        "# # Defining lists to store model inference results\n",
        "answer1, answer2, answer3, answer4 = [], [], [], []"
      ],
      "metadata": {
        "id": "yooxbJaAeAcN"
      },
      "execution_count": null,
      "outputs": []
    },
    {
      "cell_type": "code",
      "source": [
        "# Inference on evaluation set 1.\n",
        "answer1 = modelInference(answer1, eval1)\n",
        "# Inference on evaluation set 2.\n",
        "answer2 = modelInference(answer2, eval2)\n",
        "# Inference on evaluation set 3.\n",
        "answer3 = modelInference(answer3, eval3)\n",
        "# Inference on evaluation set 4.\n",
        "answer4 = modelInference(answer4, eval4)"
      ],
      "metadata": {
        "id": "sT5gLS0levgw"
      },
      "execution_count": null,
      "outputs": []
    },
    {
      "cell_type": "code",
      "source": [
        "answer4"
      ],
      "metadata": {
        "colab": {
          "base_uri": "https://localhost:8080/"
        },
        "id": "yeSnFNtFfGLy",
        "outputId": "d02d094e-4f9f-4f31-b9fb-690e46b277c7"
      },
      "execution_count": null,
      "outputs": [
        {
          "output_type": "execute_result",
          "data": {
            "text/plain": [
              "['ICU bed',\n",
              " 'ICU',\n",
              " 'oxygen',\n",
              " 'grandmother',\n",
              " 'Ventilator Bed',\n",
              " 'ICUBed #VentilatorBed',\n",
              " 'Ventilator Bed',\n",
              " 'ICU Bed',\n",
              " 'oxygen',\n",
              " 'ventilator',\n",
              " 'ICU bed',\n",
              " 'Ventilator',\n",
              " 'ventilator bed',\n",
              " 'ICU bed',\n",
              " 'ventilator',\n",
              " 'Noida ICU',\n",
              " 'ICU beds',\n",
              " 'oxygen',\n",
              " 'hospital bed with oxygen',\n",
              " 'ventilator bed',\n",
              " 'no beds',\n",
              " 'ICU',\n",
              " 'ICU Ventilator bed',\n",
              " 'Oxygen',\n",
              " 'Covid19IndiaHelp',\n",
              " 'ventilater',\n",
              " 'icu bed',\n",
              " 'ventilator',\n",
              " 'VentilatorBed #COVIDEmergencylndia',\n",
              " 'Beds #CovidSOS #UttarPradesh',\n",
              " 'oxygen',\n",
              " '83',\n",
              " 'oxygen',\n",
              " 'icu',\n",
              " 'Bipap machine',\n",
              " 'hospital bed',\n",
              " 'ICUBedsospital bed',\n",
              " 'invasive ventilator bed',\n",
              " 'HDU/ICU bed',\n",
              " 'ICU bed',\n",
              " 'dialysis bed']"
            ]
          },
          "metadata": {},
          "execution_count": 43
        }
      ]
    },
    {
      "cell_type": "code",
      "source": [
        "# Defining a function for calculating accuracy.\n",
        "def calculate_accuracy (results):\n",
        "  total_len = len(results)\n",
        "  count = 0\n",
        "  for i in range (0, len(results)):\n",
        "    if (results[i].lower().find('icu') > -1):\n",
        "      count += 1\n",
        "    elif (results[i].lower().find('venti') > -1):\n",
        "      count += 1\n",
        "    elif (results[i].lower().find('oxygen') > -1):\n",
        "      count += 1\n",
        "    elif (results[i].lower().find('bed') > -1):\n",
        "      count += 1\n",
        "    elif (results[i].lower().find('urgent') > -1):\n",
        "      count += 1\n",
        "    elif (results[i].lower().find('critical') > -1):\n",
        "      count += 1\n",
        "    else:\n",
        "      pass\n",
        "  accuracy = (count/total_len)*100\n",
        "  # print(accuracy)\n",
        "  return accuracy"
      ],
      "metadata": {
        "id": "lxSukZUxYH2R"
      },
      "execution_count": null,
      "outputs": []
    },
    {
      "cell_type": "code",
      "source": [
        "# Plotting the accuracies of evaluation datasets.\n",
        "X = ['Dataset 1','Dataset 2','Dataset 3','Dataset 4']\n",
        "\n",
        "accuracies = [calculate_accuracy(answer1),\n",
        "         calculate_accuracy(answer2),\n",
        "         calculate_accuracy(answer3),\n",
        "         calculate_accuracy(answer4)]\n",
        "  \n",
        "X_axis = np.arange(len(X))\n",
        "  \n",
        "\n",
        "plt.bar(X_axis + 0.2, accuracies, 0.4, label = 'Boys')\n",
        "  \n",
        "plt.xticks(X_axis, X)\n",
        "plt.xlabel(\"Datasets\")\n",
        "plt.ylabel(\"Accuracy\")\n",
        "plt.title(\"Accuracy Percentages for 4 evaluation datasets\")\n",
        "plt.show()\n",
        "print(accuracies)"
      ],
      "metadata": {
        "colab": {
          "base_uri": "https://localhost:8080/",
          "height": 313
        },
        "id": "z3EX4imCcTLi",
        "outputId": "160c5de5-a58c-40da-88b7-ef99e0228f83"
      },
      "execution_count": null,
      "outputs": [
        {
          "output_type": "display_data",
          "data": {
            "text/plain": [
              "<Figure size 432x288 with 1 Axes>"
            ],
            "image/png": "[encoded data removed]"
          },
          "metadata": {
            "needs_background": "light"
          }
        },
        {
          "output_type": "stream",
          "name": "stdout",
          "text": [
            "[90.47619047619048, 83.33333333333334, 88.09523809523809, 90.2439024390244]\n"
          ]
        }
      ]
    },
    {
      "cell_type": "code",
      "source": [
        "# def process_text(result):\n",
        "#   for tweet in result:\n",
        "#     # Lowering text\n",
        "#     tweet.lower()\n",
        "#     # Deleting Mentions\n",
        "#     tweet = re.sub(\"@[A-Za-z0-9_]+\",\"\", tweet)\n",
        "#     # Removing Hashtag symbols from the text\n",
        "#     tweet = tweet.replace('#', '')\n",
        "#     # Punctuation removal\n",
        "#     tweet = re.sub(r'[^\\w\\s]', '', tweet)\n",
        "#     # Removing URLs\n",
        "#     tweet = re.sub('((www.[^s]+)|(https?://[^s]+))',' ',tweet)\n",
        "#     # Removing numbers\n",
        "#     tweet = re.sub('[0-9]+', '', tweet)\n",
        "#   return result"
      ],
      "metadata": {
        "id": "LAAq0tIebZT1"
      },
      "execution_count": null,
      "outputs": []
    },
    {
      "cell_type": "code",
      "source": [
        "hash_count_data = ' '.join(eval)"
      ],
      "metadata": {
        "id": "8SS3cbSTx9Wt"
      },
      "execution_count": null,
      "outputs": []
    },
    {
      "cell_type": "code",
      "source": [
        "# Finding most repeated hashtags for analysis\n",
        "hash_counts = Counter(re.findall(r'#([a-z0-9]+)', ' '.join(eval), re.I))\n",
        "print(dict(hash_counts))\n",
        "myDict = {key:val for key, val in hash_counts.items() if val >= 20}\n",
        "print(myDict)"
      ],
      "metadata": {
        "colab": {
          "base_uri": "https://localhost:8080/"
        },
        "id": "MOl1kseOpvDb",
        "outputId": "75f63cab-5aa4-4910-95be-3e369b5af4e3"
      },
      "execution_count": null,
      "outputs": [
        {
          "output_type": "stream",
          "name": "stdout",
          "text": [
            "{'Urgent': 57, 'COVID19India': 50, 'Prayagraj': 2, 'Delhi': 36, 'Oxygen': 14, 'OxygenShortage': 2, 'OxygenCylinder': 2, 'Emergency': 22, 'Beds': 17, 'Noida': 8, 'CovidResources': 17, 'COVID19Help': 4, 'allindia': 1, 'bed': 3, 'Remedisivir': 2, 'urgent': 17, 'share': 1, 'spreadtheword': 1, 'Gurgaon': 1, 'Dwarka': 1, 'Hospital': 4, 'AMPLIFY': 1, 'Assist': 1, 'Bed': 5, 'AnyoneTHelp': 1, 'vizag': 4, 'VizagCovidHelp': 18, 'COVIDEmergency': 30, 'Ventilator': 4, 'ICUBEDS': 2, 'SOS': 17, 'Hospitals': 1, 'Kakinada': 2, 'Covid': 6, 'Covid19IndiaHelp': 24, 'CovidSOS': 22, 'COVID19': 15, 'CovidHelp': 28, 'Bengaluru': 5, 'OxygenCylinders': 4, 'OxygenConcentrators': 2, 'Remdesivir': 2, 'SosBangalore': 2, 'Bangalore': 6, 'SaveBangalore': 2, 'HelpBangalore': 2, 'Covid19': 4, 'Corona': 2, 'varanasi': 2, 'vns': 1, 'oxygenbed': 1, 'ventilater': 1, 'COVIDSecondWavelnIndia': 2, 'CUBeds': 7, 'ICUBedNeeded': 1, 'help': 14, 'allahabad': 1, 'prayagraj': 1, 'shantipuram': 1, 'beds': 6, 'ICU': 11, 'COVIDEmergency2021': 23, 'SOSDelhi': 9, 'Verified': 5, 'COVID19lndia': 28, 'Covidindialnfo': 3, 'CovidCrisis': 3, 'COVIDSecondWavelnindia': 4, 'CUBed': 5, 'Help': 7, 'Covid19Vizag': 1, 'Erode': 1, 'COVIDSecondWave': 3, 'COVIDSecondWavelnlndia': 3, 'CovidBeds': 1, 'VentilatorBed': 13, 'AndhraPradesh': 3, 'covid19': 3, 'Share': 1, 'ChennaiCovid': 1, 'BedsAvailability': 3, 'vizagcovidhelp': 4, 'VENTILATOR': 1, 'BED': 1, 'DELHI': 1, 'NCR': 3, 'URGENT': 12, 'Hyderabad': 1, 'leads': 1, 'IndiaFightsCorona': 1, 'Indore': 2, 'OxygenBed': 9, 'VizagSOS': 9, 'CN113': 1, 'BedNeeded': 4, 'SOSBangalore': 2, 'bangalorecovid': 1, 'bangaloreOxygen': 1, 'UrgentHelp': 2, 'Amplify': 1, 'Covidlndia': 1, 'RUFVerified': 1, 'DelhiNCR': 5, 'CoronaPandemic': 2, 'SecondCOVIDWave': 1, 'sonusoodfoundation': 1, 'HospitalBeds': 6, 'vizagcovid': 1, 'VIZAGCOVIDRESOURCES': 1, 'DelhiCovid': 3, 'Gurugram': 3, 'NewDelhi': 1, 'covid': 6, 'icu': 5, 'Udaipur': 3, 'coronavirus': 1, 'heart': 1, 'OxygenCrisis': 2, 'COVIDEmergencylndia': 4, 'ICUBeds': 6, 'GreaterNoida': 1, 'Siliguri': 1, 'COVIDEmergencyIndia': 2, 'SOSsiliguri': 1, 'COVID': 3, 'covidbangalore': 1, 'SOSIYC': 2, 'Covid19lndiaHelp': 2, 'emergency': 4, 'SOSFaridabad': 1, 'IndoreICU': 2, 'icubed': 2, 'ICUbeds': 2, 'patna': 2, 'bihar': 2, 'covid19help': 4, 'covidhelo': 1, 'covid19india': 4, 'covid19bihar': 2, 'covidsos': 5, 'DelhiNeedsOxygen': 1, 'DelhiFightsCorona': 2, 'CovidSOSIndia': 1, 'CovidHelpVizag': 2, 'GHAZIABAD': 3, 'Covidindia': 12, 'COVID19help': 1, 'WestGodavari': 1, 'Vizag': 5, 'BiharHealthDept': 2, 'biharfightscovid19': 2, 'CovidSOSNeed': 1, 'Covid19Rajahmundry': 3, 'Covid19India': 1, 'bangalore': 1, 'ICUrequired': 1, 'SOSPatna': 2, 'Patna': 2, 'SoSIYC': 2, 'sosiyc': 1, 'sos': 7, 'delhi': 6, 'DelhiSOS': 1, 'emergencyalert': 1, 'icubeds': 1, 'covidhelp': 4, 'Vijayanagaram': 1, 'RRRMovie': 1, 'Sos': 1, 'Covid19lndia': 6, 'CUbed': 1, 'Faridabad': 1, 'BedsforTN': 1, 'Chennai': 2, 'Gorakhpur': 1, 'aligarh': 1, 'up': 1, 'ventilators': 3, 'SOSDELHI': 1, 'Nellore': 1, 'nellore': 1, 'BJYMCares': 1, 'Ghaziabad': 2, 'helpindia': 1, 'Lucknow': 3, 'COVID19ndia': 1, 'Lucknowcovid': 1, 'ICUBed': 3, 'hospital': 1, 'Dehradun': 1, 'Vijayawada': 2, 'AdhraPradesh': 2, 'SuratCovidhelp': 2, 'surat': 2, 'Ahmedabad': 2, 'uttarpradesh': 1, 'UPGovernment': 1, 'DelhiGovernment': 1, 'patient': 1, 'RETWEET': 1, 'maxhospitals': 1, 'covidresourcesindia': 1, 'COVIDIndiaHelp': 1, 'CoronaSecondWave': 2, 'SOSCOV21': 1, 'covid19helpindia': 1, 'Visakhapatnam': 3, 'ventilator': 1, 'vizagsteelplant': 1, 'COVIDHelp': 1, 'NeedICUbed': 1, 'Madhubani': 1, 'Name': 1, 'Age': 1, 'BG': 1, 'Address': 1, 'Jhaniharpur': 1, 'Mobile': 1, 'Nashik': 1, 'Saikheda': 1, 'OxygenBeds': 2, 'Srikakulam': 1, 'Vizianagaram': 1, 'Covidhelpvizag': 1, 'covidemergency': 1, 'SPO2': 1, 'Anantapur': 1, 'COVIDIndia': 1, 'Dharbanga': 1, 'COVIDDharbanga': 1, 'Moradabad': 1, 'mubaiPolice': 1, 'CMOMaharashtra': 1, 'BMCwardFN': 1, 'gopalshetty': 1, 'healthcare': 1, 'vizagcovidresources': 1, 'VizagCovid': 1, 'Agra': 1, 'CUBedNeeded': 1, 'Ventilators': 3, 'Pune': 1, 'HELP': 1, 'PuneLockdown': 1, 'mpcovidsupport': 1, 'covidindore': 1, 'kanpur': 1, 'Haridwar': 1, 'agra': 1, 'amplify': 1, 'UttarPradesh': 1, 'COVID19Hyderabad': 1, 'vijayawada': 1, 'Guntur': 1, 'OxygenEmergency': 1, 'ICUBedsospital': 1, 'Vadodara': 1, 'Karnataka': 1}\n",
            "{'Urgent': 57, 'COVID19India': 50, 'Delhi': 36, 'Emergency': 22, 'COVIDEmergency': 30, 'Covid19IndiaHelp': 24, 'CovidSOS': 22, 'CovidHelp': 28, 'COVIDEmergency2021': 23, 'COVID19lndia': 28}\n"
          ]
        }
      ]
    },
    {
      "cell_type": "code",
      "source": [
        "X = []\n",
        "hash_counts_yaxis = []\n",
        "for key, obj in myDict.items():\n",
        "  # print(key, obj)\n",
        "  X.append(key)\n",
        "  hash_counts_yaxis.append(obj)\n",
        "\n",
        "X_axis = np.arange(len(hash_counts_xaxis))\n",
        "  \n",
        "plt.figure(figsize =(8, 6), dpi=80)\n",
        "plt.bar(X_axis + 0.2, hash_counts_yaxis, 0.4, label = 'Counts')\n",
        "# plt.bar(X_axis - 0.2, final, 0.4, label = 'Final Accuracy')\n",
        "plt.xticks(rotation=90)\n",
        "\n",
        "plt.xticks(X_axis, X)\n",
        "plt.xlabel(\"Datasets\")\n",
        "plt.ylabel(\"Count\")\n",
        "plt.title(\"Hash tag counts\")\n",
        "plt.legend()\n",
        "plt.show()\n",
        "print(hash_counts_yaxis)"
      ],
      "metadata": {
        "colab": {
          "base_uri": "https://localhost:8080/",
          "height": 579
        },
        "id": "Z12SfEnNuCgR",
        "outputId": "9224e009-1c97-4cbe-b1ec-516b5951f714"
      },
      "execution_count": null,
      "outputs": [
        {
          "output_type": "display_data",
          "data": {
            "text/plain": [
              "<Figure size 640x480 with 1 Axes>"
            ],
            "image/png": "[encoded data removed]"
          },
          "metadata": {
            "needs_background": "light"
          }
        },
        {
          "output_type": "stream",
          "name": "stdout",
          "text": [
            "[57, 50, 36, 22, 30, 24, 22, 28, 23, 28]\n"
          ]
        }
      ]
    },
    {
      "cell_type": "markdown",
      "source": [
        "# ***ANALYZE, SEARCH, AND REPLY***"
      ],
      "metadata": {
        "id": "rkdl1XR_4GzC"
      }
    },
    {
      "cell_type": "code",
      "source": [
        "# Defining a function for searching beds in the dataframe by city name and bedtype. \n",
        "# Results are used to print a reply for the sake of commenting on tweets of people in need.\n",
        "\n",
        "def searchAndReply (data, area, bedtype):\n",
        "  # Filter dataframe by location\n",
        "    new = data.loc[data['area'] == area]\n",
        "    \n",
        "    hname = \"\"\n",
        "    haddress = \"\"\n",
        "    count = 0\n",
        "    hnames = new['hospital_name'].tolist()\n",
        "    haddresses = new['hospital_address'].tolist()\n",
        "    btype = \"\"\n",
        "\n",
        "    o = new['available_beds_with_oxygen'].tolist()\n",
        "    ic = new['available_icu_beds_without_ventilator'].tolist()\n",
        "    v = new['available_icu_beds_with_ventilator'].tolist()\n",
        "\n",
        "  # For ICU beds\n",
        "    if (bedtype == 1):\n",
        "        for i in range (0, len(ic)):\n",
        "            if (ic[i] > 5):\n",
        "                btype = \" ICU \"  \n",
        "                count = ic[i]\n",
        "                hname = hnames[i]\n",
        "                haddress = haddresses[i]\n",
        "                break\n",
        "  # For Oxygen beds\n",
        "    elif (bedtype == 2):\n",
        "        for i in range (0, len(o)):\n",
        "            if (o[i] > 5):\n",
        "                btype = \" Oxygen \" \n",
        "                count = o[i]\n",
        "                hname = hnames[i]\n",
        "                haddress = haddresses[i]\n",
        "                break\n",
        "  # For Ventillator beds\n",
        "    elif (bedtype == 3):\n",
        "        for i in range (0, len(v)):\n",
        "            if (v[i] > 5):\n",
        "                btype = \" Ventillator \" \n",
        "                count = v[i]\n",
        "                hname = hnames[i]\n",
        "                haddress = haddresses[i]\n",
        "                break\n",
        "  # We recommend oxygen beds, for people who didn't mention bed type\n",
        "    elif (bedtype == 4):\n",
        "        for i in range (0, len(ic)):\n",
        "            if (o[i] > 5):\n",
        "                btype = \" Oxygen \" \n",
        "                count = o[i]\n",
        "                hname = hnames[i]\n",
        "                haddress = haddresses[i]\n",
        "                break\n",
        "\n",
        "    if(count == 0):\n",
        "        result = \"No beds available\"\n",
        "    else:\n",
        "        result = str(int(count))+btype+\"beds are available in: \"+hname+', '+haddress\n",
        "    return result\n",
        "\n"
      ],
      "metadata": {
        "id": "TEQiUzGRZ0W_"
      },
      "execution_count": null,
      "outputs": []
    },
    {
      "cell_type": "code",
      "source": [
        "searchAndReply(beds_test, \"hyderabad\", 2)"
      ],
      "metadata": {
        "colab": {
          "base_uri": "https://localhost:8080/",
          "height": 35
        },
        "id": "3WEZ5JAnaC0Q",
        "outputId": "ae5e14f7-7d9e-4e56-9ac6-4db433e2207b"
      },
      "execution_count": null,
      "outputs": [
        {
          "output_type": "execute_result",
          "data": {
            "text/plain": [
              "'50 Oxygen beds are available in: AH GOLKONDA, Maruthi Nagar, Langar Houz, Hyderabad, Telangana 500008, India'"
            ],
            "application/vnd.google.colaboratory.intrinsic+json": {
              "type": "string"
            }
          },
          "metadata": {},
          "execution_count": 76
        }
      ]
    },
    {
      "cell_type": "markdown",
      "source": [
        "## Removing tweets without city names, because we need the area name in order to recommend beds near the patient."
      ],
      "metadata": {
        "id": "ltlo3yA6BLwT"
      }
    },
    {
      "cell_type": "code",
      "source": [
        "# Extracting area list from the available beds dataframe\n",
        "\n",
        "final_eval1, final_eval2, final_eval3, final_eval4 = [], [], [], []\n",
        "\n",
        "# Selecting tweets with area names\n",
        "def selectTweetsWithAreas (evals):\n",
        "  final_eval = []\n",
        "  for i in range(0, len(area_list)):\n",
        "    for j in range (0, len(evals)):\n",
        "      if ((evals[j].lower()).find(area_list[i]) > -1):\n",
        "        # print(area_list[i]+' found in '+evals[j])\n",
        "        final_eval.append(evals[j])\n",
        "  return final_eval\n",
        "\n",
        "final_eval1 = selectTweetsWithAreas(eval1)\n",
        "final_eval2 = selectTweetsWithAreas(eval2)\n",
        "final_eval3 = selectTweetsWithAreas(eval3)\n",
        "final_eval4 = selectTweetsWithAreas(eval4)"
      ],
      "metadata": {
        "id": "thq6sEEl_lcM"
      },
      "execution_count": null,
      "outputs": []
    },
    {
      "cell_type": "code",
      "source": [
        "print(\"Tweet counts without and with city names\")\n",
        "print(len(eval1)+len(eval2)+len(eval3)+len(eval4))\n",
        "print(len(final_eval1)+len(final_eval2)+len(final_eval3)+len(final_eval4))"
      ],
      "metadata": {
        "colab": {
          "base_uri": "https://localhost:8080/"
        },
        "id": "DHZbJGSqDcIx",
        "outputId": "471ff741-ee8f-4e9d-9d04-23affd28de84"
      },
      "execution_count": null,
      "outputs": [
        {
          "output_type": "stream",
          "name": "stdout",
          "text": [
            "Tweet counts without and with city names\n",
            "167\n",
            "86\n"
          ]
        }
      ]
    },
    {
      "cell_type": "code",
      "source": [
        "# Analyzing evaluation datasets with BERT to get the inputs\n",
        "def analyzeWithBert (evals):\n",
        "  answer = []\n",
        "  for tweet in evals:\n",
        "    context = tweet\n",
        "\n",
        "    sol = nlp({\n",
        "        'question': 'what kind of bed is needed?',\n",
        "        'context': context\n",
        "    })\n",
        "    answer.append(sol['answer'])\n",
        "  return answer\n",
        "\n",
        "answer11, answer22, answer33, answer44 = [], [], [], []\n",
        "  \n",
        "answer11 = analyzeWithBert(final_eval1)\n",
        "answer22 = analyzeWithBert(final_eval2)\n",
        "answer33 = analyzeWithBert(final_eval3)\n",
        "answer44 = analyzeWithBert(final_eval4)"
      ],
      "metadata": {
        "id": "fD8E8KctJdur"
      },
      "execution_count": null,
      "outputs": []
    },
    {
      "cell_type": "code",
      "source": [
        "print(calculate_accuracy(answer11))\n",
        "print(calculate_accuracy(answer22))\n",
        "print(calculate_accuracy(answer33))\n",
        "print(calculate_accuracy(answer44))"
      ],
      "metadata": {
        "colab": {
          "base_uri": "https://localhost:8080/"
        },
        "id": "z9RgI35qNFx8",
        "outputId": "804e9ab5-f39b-4ff8-a95c-eed2e23f492e"
      },
      "execution_count": null,
      "outputs": [
        {
          "output_type": "stream",
          "name": "stdout",
          "text": [
            "100.0\n",
            "95.83333333333334\n",
            "84.21052631578947\n",
            "95.23809523809523\n"
          ]
        }
      ]
    },
    {
      "cell_type": "code",
      "source": [
        "answer22"
      ],
      "metadata": {
        "colab": {
          "base_uri": "https://localhost:8080/"
        },
        "id": "TKoA1toDJmaZ",
        "outputId": "4d850a29-9a2e-4da9-a562-ae21f231cc35"
      },
      "execution_count": null,
      "outputs": [
        {
          "output_type": "execute_result",
          "data": {
            "text/plain": [
              "['ICU Bed',\n",
              " 'ICU bed',\n",
              " '#bed',\n",
              " 'Urgently needed',\n",
              " 'hospital bed',\n",
              " 'Oxygen bed',\n",
              " 'Oxygen',\n",
              " 'ventilator bed',\n",
              " 'Beds',\n",
              " 'Emergency #UrgentHelp',\n",
              " 'ICU',\n",
              " 'ICU',\n",
              " 'ICU Bed',\n",
              " 'Covid oxygen support bed',\n",
              " 'CovidSOS #delhi #DelhiNCR',\n",
              " 'Oxygen / ICU',\n",
              " 'OxygenBed',\n",
              " 'Beds',\n",
              " 'Beds',\n",
              " 'hospital beds with oxygen',\n",
              " 'oxygen bed',\n",
              " 'ventilator bed',\n",
              " 'ventilator bed',\n",
              " 'ICU bed']"
            ]
          },
          "metadata": {},
          "execution_count": 79
        }
      ]
    },
    {
      "cell_type": "code",
      "source": [
        "X = ['Dataset 1','Dataset 2','Dataset 3','Dataset 4']\n",
        "\n",
        "\n",
        "initial = [calculate_accuracy(answer1),\n",
        "         calculate_accuracy(answer2),\n",
        "         calculate_accuracy(answer3),\n",
        "         calculate_accuracy(answer4)]\n",
        "\n",
        "final = [calculate_accuracy(answer11),\n",
        "         calculate_accuracy(answer22),\n",
        "         calculate_accuracy(answer33),\n",
        "         calculate_accuracy(answer44)]\n",
        "  \n",
        "X_axis = np.arange(len(X))\n",
        "  \n",
        "plt.figure(figsize =(8, 6), dpi=80)\n",
        "plt.bar(X_axis + 0.2, initial, 0.4, label = 'Initial Accuracy')\n",
        "plt.bar(X_axis - 0.2, final, 0.4, label = 'Final Accuracy')\n",
        "  \n",
        "\n",
        "plt.xticks(X_axis, X)\n",
        "plt.xlabel(\"Datasets\")\n",
        "plt.ylabel(\"Accuracy\")\n",
        "plt.title(\"Accuracy Percentages for 4 evaluation datasets\")\n",
        "plt.legend()\n",
        "plt.show()\n",
        "print(initial)\n",
        "print(final)"
      ],
      "metadata": {
        "colab": {
          "base_uri": "https://localhost:8080/",
          "height": 479
        },
        "id": "YAmc9wa_N2eE",
        "outputId": "2c823206-c15b-4bda-c8d5-495ec9d9c250"
      },
      "execution_count": null,
      "outputs": [
        {
          "output_type": "display_data",
          "data": {
            "text/plain": [
              "<Figure size 640x480 with 1 Axes>"
            ],
            "image/png": "[encoded data removed]"
          },
          "metadata": {
            "needs_background": "light"
          }
        },
        {
          "output_type": "stream",
          "name": "stdout",
          "text": [
            "[90.47619047619048, 83.33333333333334, 88.09523809523809, 90.2439024390244]\n",
            "[100.0, 95.83333333333334, 84.21052631578947, 95.23809523809523]\n"
          ]
        }
      ]
    },
    {
      "cell_type": "code",
      "source": [
        ""
      ],
      "metadata": {
        "id": "VCHq_KWHN2Vz"
      },
      "execution_count": null,
      "outputs": []
    }
  ]
}