{
 "cells": [
  {
   "cell_type": "markdown",
   "metadata": {},
   "source": [
    "# Extractive Question Answering:"
   ]
  },
  {
   "cell_type": "code",
   "execution_count": null,
   "metadata": {},
   "outputs": [],
   "source": [
    "pip install firebase-admin # Installing firebase"
   ]
  },
  {
   "cell_type": "code",
   "execution_count": 16,
   "metadata": {},
   "outputs": [],
   "source": [
    "import json\n",
    "import boto3\n",
    "from botocore.exceptions import ClientError\n",
    "import pandas as pd\n",
    "import time\n",
    "# Firebase\n",
    "import firebase_admin\n",
    "from firebase_admin import credentials, firestore"
   ]
  },
  {
   "cell_type": "code",
   "execution_count": 17,
   "metadata": {},
   "outputs": [],
   "source": [
    "#  S3 \n",
    "s3_resource = boto3.resource('s3')\n",
    "s3 = boto3.client('s3')"
   ]
  },
  {
   "cell_type": "markdown",
   "metadata": {},
   "source": [
    "# DATA"
   ]
  },
  {
   "cell_type": "code",
   "execution_count": 5,
   "metadata": {},
   "outputs": [],
   "source": [
    "data = pd.read_csv('recent_beds_df')"
   ]
  },
  {
   "cell_type": "code",
   "execution_count": 6,
   "metadata": {},
   "outputs": [],
   "source": [
    "# Lowering text in area list\n",
    "data['area'] = data['area'].str.lower()\n",
    "area_list = list(set(data['area'].tolist()))\n",
    "area_list.remove(area_list[0]) ### removing first value (nan)"
   ]
  },
  {
   "cell_type": "markdown",
   "metadata": {},
   "source": [
    "### Defining the necessary functions. (Model endpoint functions, beds-data search function)"
   ]
  },
  {
   "cell_type": "code",
   "execution_count": 7,
   "metadata": {},
   "outputs": [],
   "source": [
    "newline = '\\n'\n",
    "bold = '\\033[1m'\n",
    "unbold = '\\033[0m'\n",
    "def query_endpoint(encoded_text):\n",
    "    endpoint_name = 'ENTER_YOUR_MODEL_ENDPOINT_NAME'\n",
    "    client = boto3.client('runtime.sagemaker')\n",
    "    response = client.invoke_endpoint(EndpointName=endpoint_name, ContentType='application/list-text', Body=encoded_text)\n",
    "    return response\n",
    "\n",
    "def parse_response(query_response):\n",
    "    model_predictions = json.loads(query_response['Body'].read())\n",
    "    answer = model_predictions['answer']\n",
    "    return answer\n",
    "\n",
    "\n",
    "\n",
    "def encode_bedtype (bert_answer):\n",
    "    if (bert_answer.find('icu') == 0):\n",
    "        bedtype = 1\n",
    "    elif (bert_answer.find('venti') == 0):\n",
    "        bedtype = 3\n",
    "    elif (bert_answer.find('oxygen') == 0):\n",
    "        bedtype = 2\n",
    "    else:\n",
    "        bedtype = 4\n",
    "    return bedtype\n",
    "\n",
    "def searchAndReply (area, bedtype):\n",
    "    new = data.loc[data['area'] == area]\n",
    "    \n",
    "    hname = \"\"\n",
    "    haddress = \"\"\n",
    "    count = 0\n",
    "    hnames = new['hospital_name'].tolist()\n",
    "    haddresses = new['hospital_address'].tolist()\n",
    "    btype = \"\"\n",
    "\n",
    "    o = new['available_beds_with_oxygen'].tolist()\n",
    "    ic = new['available_icu_beds_without_ventilator'].tolist()\n",
    "    v = new['available_icu_beds_with_ventilator'].tolist()\n",
    "\n",
    "\n",
    "    if (bedtype == 1):\n",
    "        for i in range (0, len(ic)):\n",
    "            if (ic[i] > 5):\n",
    "                btype = \" ICU \"  \n",
    "                count = ic[i]\n",
    "                hname = hnames[i]\n",
    "                haddress = haddresses[i]\n",
    "                break\n",
    "    elif (bedtype == 2):\n",
    "        for i in range (0, len(o)):\n",
    "            if (o[i] > 5):\n",
    "                btype = \" Oxygen \" \n",
    "                count = o[i]\n",
    "                hname = hnames[i]\n",
    "                haddress = haddresses[i]\n",
    "                break\n",
    "    elif (bedtype == 3):\n",
    "        for i in range (0, len(v)):\n",
    "            if (v[i] > 5):\n",
    "                btype = \" Ventillator \" \n",
    "                count = v[i]\n",
    "                hname = hnames[i]\n",
    "                haddress = haddresses[i]\n",
    "                break\n",
    "    elif (bedtype == 4):\n",
    "        for i in range (0, len(ic)):\n",
    "            if (o[i] > 5):\n",
    "                btype = \" Oxygen \" \n",
    "                count = o[i]\n",
    "                hname = hnames[i]\n",
    "                haddress = haddresses[i]\n",
    "                break\n",
    "\n",
    "\n",
    "    if(count == 0):\n",
    "        result = \"No beds available\"\n",
    "    else:\n",
    "        result = str(int(count))+btype+\"beds are available in: \"+hname+', '+haddress\n",
    "    return result\n",
    "\n"
   ]
  },
  {
   "cell_type": "code",
   "execution_count": 8,
   "metadata": {},
   "outputs": [
    {
     "data": {
      "text/plain": [
       "'100 ICU beds are available in: AIIMS Jhajjar, Tehsil Badli, Badsa, Haryana 124105, India'"
      ]
     },
     "execution_count": 8,
     "metadata": {},
     "output_type": "execute_result"
    }
   ],
   "source": [
    "searchAndReply(\"delhi\", 1) # testing the search function"
   ]
  },
  {
   "cell_type": "code",
   "execution_count": 9,
   "metadata": {},
   "outputs": [],
   "source": [
    "result_dict = {}\n",
    "requirement = \"What kind of bed is needed?\" # Defining the question for BERT, while we use tweet as the context."
   ]
  },
  {
   "cell_type": "code",
   "execution_count": 10,
   "metadata": {},
   "outputs": [
    {
     "data": {
      "text/plain": [
       "<firebase_admin.App at 0x7f1699f2f950>"
      ]
     },
     "execution_count": 10,
     "metadata": {},
     "output_type": "execute_result"
    }
   ],
   "source": [
    "# Firebase credentials file\n",
    "cred = credentials.Certificate(\"python_credentials.json\")\n",
    "firebase_admin.initialize_app(cred)"
   ]
  },
  {
   "cell_type": "code",
   "execution_count": 11,
   "metadata": {},
   "outputs": [],
   "source": [
    "# Initializing firebase\n",
    "db = firestore.client()  \n",
    "collection = db.collection('tweets')  \n",
    "doc = collection.document('tweet')\n",
    "collection2 = db.collection('answers')  "
   ]
  },
  {
   "cell_type": "code",
   "execution_count": 12,
   "metadata": {},
   "outputs": [],
   "source": [
    "res = doc.get().to_dict()"
   ]
  },
  {
   "cell_type": "code",
   "execution_count": 13,
   "metadata": {},
   "outputs": [
    {
     "name": "stdout",
     "output_type": "stream",
     "text": [
      "0 I need an oxygen bed in hyderabad\n"
     ]
    }
   ],
   "source": [
    "print(res[\"status\"], res[\"data\"])"
   ]
  },
  {
   "cell_type": "markdown",
   "metadata": {},
   "source": [
    "# Interacting with apps using firebase"
   ]
  },
  {
   "cell_type": "code",
   "execution_count": null,
   "metadata": {},
   "outputs": [
    {
     "name": "stdout",
     "output_type": "stream",
     "text": [
      "Inference:\n",
      "Context: i need an icu bed in delhi\n",
      "Question: \u001b[1mWhat kind of bed is needed?\u001b[0m\n",
      "model answer: \u001b[1micu bed\u001b[0m\n",
      "\n",
      "delhi found in the tweet: i need an icu bed in delhi\n",
      "100 ICU beds are available in: AIIMS Jhajjar, Tehsil Badli, Badsa, Haryana 124105, India\n"
     ]
    }
   ],
   "source": [
    "while (True):\n",
    "    \n",
    "    collection = db.collection('tweets')  \n",
    "    doc = collection.document('tweet')\n",
    "    res = doc.get().to_dict()\n",
    "    collection2 = db.collection('answers')  \n",
    "    status = res['status']\n",
    "    tweet = res['data']\n",
    "    question_context1 = []\n",
    "    areaname = \"null\"\n",
    "    \n",
    "    if (status == \"1\"):\n",
    "        question_context1 = [requirement, tweet]\n",
    "        \n",
    "        try:\n",
    "            query_response = query_endpoint(json.dumps(question_context1).encode('utf-8'))\n",
    "        except Exception as e:\n",
    "            if e.response is not None and 'Error' in e.response and e.response.get('Error').get('Code') == 'ModelError':\n",
    "                raise Exception(\n",
    "                         \"Backend scripts have been updated in February '22 to standardize response \"\n",
    "                         \"format of endpoint response.\"\n",
    "                         \"Previous endpoints may not support verbose response type used in this notebook.\"\n",
    "                         f\"To use this notebook, please launch the endpoint again. Error: {e}.\"\n",
    "                )\n",
    "            else:\n",
    "                raise\n",
    "        try:\n",
    "            answer = parse_response(query_response)\n",
    "        except (TypeError, KeyError) as e:\n",
    "            raise Exception(\n",
    "                      \"Backend scripts have been updated in February '22 to standardize response \"\n",
    "                      \"format of endpoint response.\"\n",
    "                       \"Response from previous endpoints not consistent with this notebook.\"\n",
    "                       f\"To use this notebook, please launch the endpoint again. Error: {e}.\"\n",
    "            )\n",
    "        print (f\"Inference:{newline}\"\n",
    "               f\"Context: {question_context1[1]}{newline}\"\n",
    "                f\"Question: {bold}{question_context1[0]}{unbold}{newline}\"\n",
    "                f\"model answer: {bold}{answer}{unbold}{newline}\")\n",
    "        \n",
    "         # Searching for areas for which we have beds information.\n",
    "\n",
    "        for i in range (0, len(area_list)):    \n",
    "            if (tweet.find(area_list[i]) > -1):\n",
    "                print(area_list[i]+' found in the tweet: '+tweet)\n",
    "                areaname = area_list[i]\n",
    "        bedtype = encode_bedtype(answer)\n",
    "        \n",
    "        if (areaname == \"null\"):\n",
    "            reply = \"No beds available\"\n",
    "        else:\n",
    "            reply = searchAndReply(areaname, bedtype)\n",
    "            print(reply)\n",
    "            \n",
    "        # Update firebase\n",
    "        collection.document('tweet').update({'status': '0'})\n",
    "        collection2.document('answer').update({'data': reply})\n",
    "    elif (status == \"0\"):\n",
    "        pass\n",
    "    else:\n",
    "        print('error')\n",
    "        \n",
    "        "
   ]
  },
  {
   "cell_type": "code",
   "execution_count": null,
   "metadata": {},
   "outputs": [],
   "source": []
  }
 ],
 "metadata": {
  "instance_type": "ml.t3.medium",
  "kernelspec": {
   "display_name": "Python 3 (Data Science)",
   "language": "python",
   "name": "python3__SAGEMAKER_INTERNAL__arn:aws:sagemaker:us-east-1:081325390199:image/datascience-1.0"
  },
  "language_info": {
   "codemirror_mode": {
    "name": "ipython",
    "version": 3
   },
   "file_extension": ".py",
   "mimetype": "text/x-python",
   "name": "python",
   "nbconvert_exporter": "python",
   "pygments_lexer": "ipython3",
   "version": "3.7.10"
  },
  "pycharm": {
   "stem_cell": {
    "cell_type": "raw",
    "metadata": {
     "collapsed": false
    },
    "source": []
   }
  }
 },
 "nbformat": 4,
 "nbformat_minor": 4
}
